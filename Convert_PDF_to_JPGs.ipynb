{
  "nbformat": 4,
  "nbformat_minor": 0,
  "metadata": {
    "colab": {
      "provenance": [],
      "include_colab_link": true
    },
    "kernelspec": {
      "name": "python3",
      "display_name": "Python 3"
    },
    "language_info": {
      "name": "python"
    }
  },
  "cells": [
    {
      "cell_type": "markdown",
      "metadata": {
        "id": "view-in-github",
        "colab_type": "text"
      },
      "source": [
        "<a href=\"https://colab.research.google.com/github/Noelle-Pastor/UTA-Libraries-Data-Visualization-Contest/blob/main/Convert_PDF_to_JPGs.ipynb\" target=\"_parent\"><img src=\"https://colab.research.google.com/assets/colab-badge.svg\" alt=\"Open In Colab\"/></a>"
      ]
    },
    {
      "cell_type": "markdown",
      "source": [
        "### This program scans a directory for PDFs and converts each page into a JPG.\n",
        "- Input: A single parent directory.\n",
        "- Action: Scans each direct subfolder for a PDF file.\n",
        "- Conversion: Converts each page of the PDF into a separate image file.\n",
        "- Output: Saves the new image files into the same subfolder as the source PDF.\n",
        "- Configuration: The output image format and DPI can be set.\n",
        "\n",
        "\n",
        "---\n",
        "\n"
      ],
      "metadata": {
        "id": "qY_Olo9cCn-A"
      }
    },
    {
      "cell_type": "markdown",
      "source": [
        "<br><br/>\n",
        "Import libraries"
      ],
      "metadata": {
        "id": "DdWJAQzyCr7n"
      }
    },
    {
      "cell_type": "code",
      "execution_count": null,
      "metadata": {
        "id": "MD166EDz_19g"
      },
      "outputs": [],
      "source": [
        "from pdf2image import convert_from_path\n",
        "from pathlib import Path\n",
        "import os"
      ]
    },
    {
      "cell_type": "markdown",
      "source": [
        "<br><br/>\n",
        "Save path to the directory containing the folders"
      ],
      "metadata": {
        "id": "CcbhZLcNCuk-"
      }
    },
    {
      "cell_type": "code",
      "source": [
        "DIR_PATH = 'insert_path_here'"
      ],
      "metadata": {
        "id": "2KbG4L5SC0Xz"
      },
      "execution_count": null,
      "outputs": []
    },
    {
      "cell_type": "markdown",
      "source": [
        "<br><br/>\n",
        "Function that saves each page of the PDF as a JPG. The JPGs are saved to the same folder as the PDF."
      ],
      "metadata": {
        "id": "HmLg3Lo1C4NG"
      }
    },
    {
      "cell_type": "code",
      "source": [
        "def save_each_page_as_jpg(pdf_path):\n",
        "\n",
        "\n",
        "    output_file_basename = os.path.basename(pdf_path)[:-5]  # Get anthology title for output filenaming; remove \".pdf\"\n",
        "\n",
        "\n",
        "\n",
        "    output_dir = os.path.dirname(pdf_path);   #Get save location (same as opdf)\n",
        "\n",
        "\n",
        "\n",
        "    #convert PDF file to list of Pillow images\n",
        "    pages = convert_from_path(pdf_path, dpi=200, poppler_path=\"/usr/local/opt/poppler/bin\")\n",
        "\n",
        "\n",
        "\n",
        "    for i, page in enumerate(pages):\n",
        "\n",
        "        output_filename = os.path.join(output_dir, f\"{output_file_basename}_{i+1}.jpg\")   # Make output filepath\n",
        "\n",
        "        page.save(output_filename, format=\"JPEG\")\n",
        "\n",
        "\n",
        "    print(f\"{output_file_basename} pages saved as JPEGs.\\n\")"
      ],
      "metadata": {
        "id": "Yu3beuY-DQmw"
      },
      "execution_count": null,
      "outputs": []
    },
    {
      "cell_type": "markdown",
      "source": [
        "<br><br/>\n",
        "Function that loops through all folders in the directory and saves the JPGS."
      ],
      "metadata": {
        "id": "GcnLOCU2i2Vy"
      }
    },
    {
      "cell_type": "code",
      "source": [
        "def convert_pdfs_to_jpgs(dir_path):\n",
        "    path = Path(dir_path)\n",
        "\n",
        "    anth_list = sorted(path.iterdir())   #list of the folders (each folder has an anthology ToC pdf)\n",
        "\n",
        "\n",
        "\n",
        "    for folder in anth_list:\n",
        "        if folder.is_dir():\n",
        "\n",
        "\n",
        "\n",
        "            for file in folder.iterdir():\n",
        "\n",
        "                ext = os.fspath(file)[-1:-4:-1] #get file extesion\n",
        "                ext = ext[::-1]\n",
        "\n",
        "                if ext == \"pdf\":\n",
        "                    print(f\"Converting {os.path.basename(folder)}...\")\n",
        "                    save_each_page_as_jpg(file)"
      ],
      "metadata": {
        "id": "jMHiaDZ0jB1D"
      },
      "execution_count": null,
      "outputs": []
    },
    {
      "cell_type": "markdown",
      "source": [
        "<br><br/>\n",
        "Create and call main function."
      ],
      "metadata": {
        "id": "47xgXnQZjZV7"
      }
    },
    {
      "cell_type": "code",
      "source": [
        "def main():\n",
        "    convert_pdfs_to_jpgs(DIR_PATH)"
      ],
      "metadata": {
        "id": "MhJICg-djTw3"
      },
      "execution_count": null,
      "outputs": []
    },
    {
      "cell_type": "code",
      "source": [
        "if __name__ == \"__main__\":\n",
        "    main()"
      ],
      "metadata": {
        "id": "jDO9wsIfnAs7"
      },
      "execution_count": null,
      "outputs": []
    }
  ]
}